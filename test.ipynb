{
 "cells": [
  {
   "cell_type": "code",
   "execution_count": 11,
   "metadata": {},
   "outputs": [
    {
     "name": "stdout",
     "output_type": "stream",
     "text": [
      "===\n",
      "0\n",
      "Epoch 1, Learning Rate: 0.001\n",
      "===\n",
      "1\n",
      "Epoch 2, Learning Rate: 0.0007071067811865475\n",
      "===\n",
      "2\n",
      "Epoch 3, Learning Rate: 0.0005773502691896259\n",
      "===\n",
      "3\n",
      "Epoch 4, Learning Rate: 0.0005\n",
      "===\n",
      "4\n",
      "Epoch 5, Learning Rate: 0.00044721359549995795\n",
      "===\n",
      "5\n",
      "Epoch 6, Learning Rate: 0.0004082482904638631\n",
      "===\n",
      "6\n",
      "Epoch 7, Learning Rate: 0.0003779644730092272\n",
      "===\n",
      "7\n",
      "Epoch 8, Learning Rate: 0.00035355339059327376\n",
      "===\n",
      "8\n",
      "Epoch 9, Learning Rate: 0.0003333333333333333\n",
      "===\n",
      "9\n",
      "Epoch 10, Learning Rate: 0.00031622776601683794\n",
      "===\n",
      "10\n"
     ]
    }
   ],
   "source": [
    "import math\n",
    "import torch\n",
    "from torch import nn\n",
    "# Example configuration\n",
    "class Config:\n",
    "    learning_rate = 0.001\n",
    "\n",
    "config = Config()\n",
    "class LinearRegressionModel(nn.Module):\n",
    "    def __init__(self, input_dim, output_dim):\n",
    "        super(LinearRegressionModel, self).__init__()\n",
    "        self.linear = nn.Linear(input_dim, output_dim)\n",
    "    \n",
    "    def forward(self, x):\n",
    "        return self.linear(x)\n",
    "model = LinearRegressionModel(100, 3)\n",
    "# Example optimizer (assuming `model` is your neural network)\n",
    "optimizer = torch.optim.Adam(model.parameters(), lr=config.learning_rate)\n",
    "def fun(epoch):\n",
    "    print('===')\n",
    "    print(epoch)\n",
    "    return (1 / math.sqrt(epoch + 1)) \n",
    "# Define the lambda function for the learning rate scheduler\n",
    "lambda1 = lambda epoch: fun(epoch=epoch)\n",
    "\n",
    "# Initialize the learning rate scheduler\n",
    "lr_scheduler = torch.optim.lr_scheduler.LambdaLR(optimizer, lr_lambda=lambda1)\n",
    "\n",
    "# Example training loop\n",
    "num_epochs = 10\n",
    "for epoch in range(num_epochs):\n",
    "    # Training code here...\n",
    "    # Print the current learning rate for debugging\n",
    "    current_lr = optimizer.param_groups[0]['lr']\n",
    "    print(f\"Epoch {epoch + 1}, Learning Rate: {current_lr}\")\n",
    "    # Step the scheduler\n",
    "    lr_scheduler.step()\n",
    "    \n",
    "    \n"
   ]
  },
  {
   "cell_type": "code",
   "execution_count": 15,
   "metadata": {},
   "outputs": [
    {
     "data": {
      "text/plain": [
       "0.0005"
      ]
     },
     "execution_count": 15,
     "metadata": {},
     "output_type": "execute_result"
    }
   ],
   "source": [
    "1/math.sqrt(4) * 0.001"
   ]
  },
  {
   "cell_type": "code",
   "execution_count": null,
   "metadata": {},
   "outputs": [],
   "source": []
  }
 ],
 "metadata": {
  "kernelspec": {
   "display_name": "Python 3",
   "language": "python",
   "name": "python3"
  },
  "language_info": {
   "codemirror_mode": {
    "name": "ipython",
    "version": 3
   },
   "file_extension": ".py",
   "mimetype": "text/x-python",
   "name": "python",
   "nbconvert_exporter": "python",
   "pygments_lexer": "ipython3",
   "version": "3.11.9"
  }
 },
 "nbformat": 4,
 "nbformat_minor": 2
}
