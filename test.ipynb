{
 "cells": [
  {
   "cell_type": "code",
   "execution_count": 1,
   "metadata": {},
   "outputs": [
    {
     "name": "stdout",
     "output_type": "stream",
     "text": [
      "Collecting diffusers\n",
      "  Downloading diffusers-0.27.2-py3-none-any.whl.metadata (18 kB)\n",
      "Collecting importlib-metadata (from diffusers)\n",
      "  Downloading importlib_metadata-7.1.0-py3-none-any.whl.metadata (4.7 kB)\n",
      "Requirement already satisfied: filelock in c:\\users\\david nguyen\\appdata\\local\\programs\\python\\python311\\lib\\site-packages (from diffusers) (3.13.1)\n",
      "Requirement already satisfied: huggingface-hub>=0.20.2 in c:\\users\\david nguyen\\appdata\\local\\programs\\python\\python311\\lib\\site-packages (from diffusers) (0.23.0)\n",
      "Requirement already satisfied: numpy in c:\\users\\david nguyen\\appdata\\local\\programs\\python\\python311\\lib\\site-packages (from diffusers) (1.26.3)\n",
      "Requirement already satisfied: regex!=2019.12.17 in c:\\users\\david nguyen\\appdata\\local\\programs\\python\\python311\\lib\\site-packages (from diffusers) (2024.5.10)\n",
      "Requirement already satisfied: requests in c:\\users\\david nguyen\\appdata\\local\\programs\\python\\python311\\lib\\site-packages (from diffusers) (2.31.0)\n",
      "Requirement already satisfied: safetensors>=0.3.1 in c:\\users\\david nguyen\\appdata\\local\\programs\\python\\python311\\lib\\site-packages (from diffusers) (0.4.3)\n",
      "Requirement already satisfied: Pillow in c:\\users\\david nguyen\\appdata\\local\\programs\\python\\python311\\lib\\site-packages (from diffusers) (10.2.0)\n",
      "Requirement already satisfied: fsspec>=2023.5.0 in c:\\users\\david nguyen\\appdata\\local\\programs\\python\\python311\\lib\\site-packages (from huggingface-hub>=0.20.2->diffusers) (2024.2.0)\n",
      "Requirement already satisfied: packaging>=20.9 in c:\\users\\david nguyen\\appdata\\roaming\\python\\python311\\site-packages (from huggingface-hub>=0.20.2->diffusers) (24.0)\n",
      "Requirement already satisfied: pyyaml>=5.1 in c:\\users\\david nguyen\\appdata\\local\\programs\\python\\python311\\lib\\site-packages (from huggingface-hub>=0.20.2->diffusers) (6.0.1)\n",
      "Requirement already satisfied: tqdm>=4.42.1 in c:\\users\\david nguyen\\appdata\\local\\programs\\python\\python311\\lib\\site-packages (from huggingface-hub>=0.20.2->diffusers) (4.66.4)\n",
      "Requirement already satisfied: typing-extensions>=3.7.4.3 in c:\\users\\david nguyen\\appdata\\local\\programs\\python\\python311\\lib\\site-packages (from huggingface-hub>=0.20.2->diffusers) (4.9.0)\n",
      "Collecting zipp>=0.5 (from importlib-metadata->diffusers)\n",
      "  Downloading zipp-3.18.2-py3-none-any.whl.metadata (3.5 kB)\n",
      "Requirement already satisfied: charset-normalizer<4,>=2 in c:\\users\\david nguyen\\appdata\\local\\programs\\python\\python311\\lib\\site-packages (from requests->diffusers) (3.3.2)\n",
      "Requirement already satisfied: idna<4,>=2.5 in c:\\users\\david nguyen\\appdata\\local\\programs\\python\\python311\\lib\\site-packages (from requests->diffusers) (3.7)\n",
      "Requirement already satisfied: urllib3<3,>=1.21.1 in c:\\users\\david nguyen\\appdata\\local\\programs\\python\\python311\\lib\\site-packages (from requests->diffusers) (2.2.1)\n",
      "Requirement already satisfied: certifi>=2017.4.17 in c:\\users\\david nguyen\\appdata\\local\\programs\\python\\python311\\lib\\site-packages (from requests->diffusers) (2024.2.2)\n",
      "Requirement already satisfied: colorama in c:\\users\\david nguyen\\appdata\\roaming\\python\\python311\\site-packages (from tqdm>=4.42.1->huggingface-hub>=0.20.2->diffusers) (0.4.6)\n",
      "Downloading diffusers-0.27.2-py3-none-any.whl (2.0 MB)\n",
      "   ---------------------------------------- 0.0/2.0 MB ? eta -:--:--\n",
      "   ---------------------------------------- 0.0/2.0 MB ? eta -:--:--\n",
      "    --------------------------------------- 0.0/2.0 MB 435.7 kB/s eta 0:00:05\n",
      "    --------------------------------------- 0.0/2.0 MB 326.8 kB/s eta 0:00:07\n",
      "   - -------------------------------------- 0.1/2.0 MB 409.6 kB/s eta 0:00:05\n",
      "   - -------------------------------------- 0.1/2.0 MB 409.6 kB/s eta 0:00:05\n",
      "   - -------------------------------------- 0.1/2.0 MB 302.7 kB/s eta 0:00:07\n",
      "   - -------------------------------------- 0.1/2.0 MB 348.6 kB/s eta 0:00:06\n",
      "   -- ------------------------------------- 0.1/2.0 MB 379.3 kB/s eta 0:00:06\n",
      "   -- ------------------------------------- 0.1/2.0 MB 387.0 kB/s eta 0:00:05\n",
      "   --- ------------------------------------ 0.2/2.0 MB 398.2 kB/s eta 0:00:05\n",
      "   --- ------------------------------------ 0.2/2.0 MB 398.2 kB/s eta 0:00:05\n",
      "   --- ------------------------------------ 0.2/2.0 MB 402.6 kB/s eta 0:00:05\n",
      "   --- ------------------------------------ 0.2/2.0 MB 402.6 kB/s eta 0:00:05\n",
      "   ---- ----------------------------------- 0.2/2.0 MB 365.7 kB/s eta 0:00:05\n",
      "   ---- ----------------------------------- 0.2/2.0 MB 365.7 kB/s eta 0:00:05\n",
      "   ---- ----------------------------------- 0.2/2.0 MB 372.0 kB/s eta 0:00:05\n",
      "   ---- ----------------------------------- 0.2/2.0 MB 369.3 kB/s eta 0:00:05\n",
      "   ----- ---------------------------------- 0.3/2.0 MB 374.1 kB/s eta 0:00:05\n",
      "   ----- ---------------------------------- 0.3/2.0 MB 374.1 kB/s eta 0:00:05\n",
      "   ----- ---------------------------------- 0.3/2.0 MB 368.6 kB/s eta 0:00:05\n",
      "   ----- ---------------------------------- 0.3/2.0 MB 368.6 kB/s eta 0:00:05\n",
      "   ------ --------------------------------- 0.3/2.0 MB 372.6 kB/s eta 0:00:05\n",
      "   ------ --------------------------------- 0.3/2.0 MB 372.6 kB/s eta 0:00:05\n",
      "   ------ --------------------------------- 0.3/2.0 MB 344.8 kB/s eta 0:00:05\n",
      "   ------ --------------------------------- 0.3/2.0 MB 355.4 kB/s eta 0:00:05\n",
      "   ------- -------------------------------- 0.4/2.0 MB 359.3 kB/s eta 0:00:05\n",
      "   ------- -------------------------------- 0.4/2.0 MB 352.8 kB/s eta 0:00:05\n",
      "   ------- -------------------------------- 0.4/2.0 MB 367.1 kB/s eta 0:00:05\n",
      "   ------- -------------------------------- 0.4/2.0 MB 366.1 kB/s eta 0:00:05\n",
      "   -------- ------------------------------- 0.4/2.0 MB 365.0 kB/s eta 0:00:05\n",
      "   -------- ------------------------------- 0.4/2.0 MB 362.9 kB/s eta 0:00:05\n",
      "   -------- ------------------------------- 0.4/2.0 MB 362.9 kB/s eta 0:00:05\n",
      "   -------- ------------------------------- 0.5/2.0 MB 352.3 kB/s eta 0:00:05\n",
      "   --------- ------------------------------ 0.5/2.0 MB 351.4 kB/s eta 0:00:05\n",
      "   --------- ------------------------------ 0.5/2.0 MB 358.8 kB/s eta 0:00:05\n",
      "   --------- ------------------------------ 0.5/2.0 MB 358.1 kB/s eta 0:00:05\n",
      "   ---------- ----------------------------- 0.5/2.0 MB 352.9 kB/s eta 0:00:05\n",
      "   ---------- ----------------------------- 0.5/2.0 MB 363.2 kB/s eta 0:00:05\n",
      "   ---------- ----------------------------- 0.5/2.0 MB 358.6 kB/s eta 0:00:05\n",
      "   ----------- ---------------------------- 0.6/2.0 MB 364.7 kB/s eta 0:00:05\n",
      "   ----------- ---------------------------- 0.6/2.0 MB 364.7 kB/s eta 0:00:05\n",
      "   ----------- ---------------------------- 0.6/2.0 MB 353.3 kB/s eta 0:00:05\n",
      "   ----------- ---------------------------- 0.6/2.0 MB 352.3 kB/s eta 0:00:05\n",
      "   ------------ --------------------------- 0.6/2.0 MB 357.9 kB/s eta 0:00:04\n",
      "   ------------ --------------------------- 0.6/2.0 MB 357.9 kB/s eta 0:00:04\n",
      "   ------------ --------------------------- 0.6/2.0 MB 347.9 kB/s eta 0:00:05\n",
      "   ------------ --------------------------- 0.7/2.0 MB 355.8 kB/s eta 0:00:04\n",
      "   ------------- -------------------------- 0.7/2.0 MB 349.5 kB/s eta 0:00:04\n",
      "   ------------- -------------------------- 0.7/2.0 MB 354.4 kB/s eta 0:00:04\n",
      "   ------------- -------------------------- 0.7/2.0 MB 354.4 kB/s eta 0:00:04\n",
      "   ------------- -------------------------- 0.7/2.0 MB 353.6 kB/s eta 0:00:04\n",
      "   ------------- -------------------------- 0.7/2.0 MB 353.6 kB/s eta 0:00:04\n",
      "   -------------- ------------------------- 0.7/2.0 MB 347.7 kB/s eta 0:00:04\n",
      "   -------------- ------------------------- 0.7/2.0 MB 349.9 kB/s eta 0:00:04\n",
      "   -------------- ------------------------- 0.7/2.0 MB 349.4 kB/s eta 0:00:04\n",
      "   --------------- ------------------------ 0.8/2.0 MB 351.3 kB/s eta 0:00:04\n",
      "   --------------- ------------------------ 0.8/2.0 MB 353.3 kB/s eta 0:00:04\n",
      "   --------------- ------------------------ 0.8/2.0 MB 353.3 kB/s eta 0:00:04\n",
      "   --------------- ------------------------ 0.8/2.0 MB 350.4 kB/s eta 0:00:04\n",
      "   --------------- ------------------------ 0.8/2.0 MB 350.4 kB/s eta 0:00:04\n",
      "   --------------- ------------------------ 0.8/2.0 MB 350.4 kB/s eta 0:00:04\n",
      "   ---------------- ----------------------- 0.8/2.0 MB 340.6 kB/s eta 0:00:04\n",
      "   ---------------- ----------------------- 0.8/2.0 MB 340.6 kB/s eta 0:00:04\n",
      "   ---------------- ----------------------- 0.8/2.0 MB 334.0 kB/s eta 0:00:04\n",
      "   ---------------- ----------------------- 0.8/2.0 MB 334.0 kB/s eta 0:00:04\n",
      "   ---------------- ----------------------- 0.8/2.0 MB 331.6 kB/s eta 0:00:04\n",
      "   ----------------- ---------------------- 0.9/2.0 MB 333.7 kB/s eta 0:00:04\n",
      "   ----------------- ---------------------- 0.9/2.0 MB 333.5 kB/s eta 0:00:04\n",
      "   ----------------- ---------------------- 0.9/2.0 MB 335.3 kB/s eta 0:00:04\n",
      "   ----------------- ---------------------- 0.9/2.0 MB 335.2 kB/s eta 0:00:04\n",
      "   ----------------- ---------------------- 0.9/2.0 MB 335.2 kB/s eta 0:00:04\n",
      "   ------------------ --------------------- 0.9/2.0 MB 335.1 kB/s eta 0:00:04\n",
      "   ------------------ --------------------- 0.9/2.0 MB 335.1 kB/s eta 0:00:04\n",
      "   ------------------ --------------------- 0.9/2.0 MB 335.1 kB/s eta 0:00:04\n",
      "   ------------------ --------------------- 1.0/2.0 MB 331.3 kB/s eta 0:00:04\n",
      "   ------------------- -------------------- 1.0/2.0 MB 325.9 kB/s eta 0:00:04\n",
      "   ------------------- -------------------- 1.0/2.0 MB 325.9 kB/s eta 0:00:04\n",
      "   ------------------- -------------------- 1.0/2.0 MB 325.9 kB/s eta 0:00:04\n",
      "   ------------------- -------------------- 1.0/2.0 MB 324.2 kB/s eta 0:00:04\n",
      "   -------------------- ------------------- 1.0/2.0 MB 326.0 kB/s eta 0:00:04\n",
      "   -------------------- ------------------- 1.0/2.0 MB 326.0 kB/s eta 0:00:04\n",
      "   -------------------- ------------------- 1.0/2.0 MB 326.0 kB/s eta 0:00:04\n",
      "   -------------------- ------------------- 1.0/2.0 MB 326.1 kB/s eta 0:00:04\n",
      "   -------------------- ------------------- 1.0/2.0 MB 326.1 kB/s eta 0:00:04\n",
      "   --------------------- ------------------ 1.1/2.0 MB 324.5 kB/s eta 0:00:03\n",
      "   --------------------- ------------------ 1.1/2.0 MB 321.4 kB/s eta 0:00:03\n",
      "   --------------------- ------------------ 1.1/2.0 MB 324.6 kB/s eta 0:00:03\n",
      "   --------------------- ------------------ 1.1/2.0 MB 324.6 kB/s eta 0:00:03\n",
      "   ---------------------- ----------------- 1.1/2.0 MB 324.6 kB/s eta 0:00:03\n",
      "   ---------------------- ----------------- 1.1/2.0 MB 327.7 kB/s eta 0:00:03\n",
      "   ---------------------- ----------------- 1.2/2.0 MB 324.7 kB/s eta 0:00:03\n",
      "   ---------------------- ----------------- 1.2/2.0 MB 324.7 kB/s eta 0:00:03\n",
      "   ---------------------- ----------------- 1.2/2.0 MB 324.7 kB/s eta 0:00:03\n",
      "   ----------------------- ---------------- 1.2/2.0 MB 320.6 kB/s eta 0:00:03\n",
      "   ----------------------- ---------------- 1.2/2.0 MB 322.1 kB/s eta 0:00:03\n",
      "   ----------------------- ---------------- 1.2/2.0 MB 323.5 kB/s eta 0:00:03\n",
      "   ------------------------ --------------- 1.2/2.0 MB 324.9 kB/s eta 0:00:03\n",
      "   ------------------------ --------------- 1.2/2.0 MB 322.3 kB/s eta 0:00:03\n",
      "   ------------------------ --------------- 1.3/2.0 MB 325.0 kB/s eta 0:00:03\n",
      "   ------------------------- -------------- 1.3/2.0 MB 326.3 kB/s eta 0:00:03\n",
      "   ------------------------- -------------- 1.3/2.0 MB 326.3 kB/s eta 0:00:03\n",
      "   ------------------------- -------------- 1.3/2.0 MB 326.3 kB/s eta 0:00:03\n",
      "   -------------------------- ------------- 1.3/2.0 MB 326.4 kB/s eta 0:00:03\n",
      "   -------------------------- ------------- 1.3/2.0 MB 328.9 kB/s eta 0:00:03\n",
      "   -------------------------- ------------- 1.4/2.0 MB 331.5 kB/s eta 0:00:03\n",
      "   -------------------------- ------------- 1.4/2.0 MB 331.5 kB/s eta 0:00:03\n",
      "   -------------------------- ------------- 1.4/2.0 MB 331.5 kB/s eta 0:00:03\n",
      "   --------------------------- ------------ 1.4/2.0 MB 324.0 kB/s eta 0:00:03\n",
      "   --------------------------- ------------ 1.4/2.0 MB 326.5 kB/s eta 0:00:02\n",
      "   --------------------------- ------------ 1.4/2.0 MB 326.5 kB/s eta 0:00:02\n",
      "   ---------------------------- ----------- 1.4/2.0 MB 326.5 kB/s eta 0:00:02\n",
      "   ---------------------------- ----------- 1.4/2.0 MB 326.5 kB/s eta 0:00:02\n",
      "   ---------------------------- ----------- 1.4/2.0 MB 324.2 kB/s eta 0:00:02\n",
      "   ---------------------------- ----------- 1.4/2.0 MB 324.2 kB/s eta 0:00:02\n",
      "   ----------------------------- ---------- 1.5/2.0 MB 325.4 kB/s eta 0:00:02\n",
      "   ----------------------------- ---------- 1.5/2.0 MB 324.3 kB/s eta 0:00:02\n",
      "   ----------------------------- ---------- 1.5/2.0 MB 326.6 kB/s eta 0:00:02\n",
      "   ------------------------------ --------- 1.5/2.0 MB 327.7 kB/s eta 0:00:02\n",
      "   ------------------------------ --------- 1.5/2.0 MB 328.8 kB/s eta 0:00:02\n",
      "   ------------------------------ --------- 1.5/2.0 MB 328.8 kB/s eta 0:00:02\n",
      "   ------------------------------ --------- 1.5/2.0 MB 328.8 kB/s eta 0:00:02\n",
      "   ------------------------------ --------- 1.5/2.0 MB 328.8 kB/s eta 0:00:02\n",
      "   ------------------------------ --------- 1.5/2.0 MB 328.8 kB/s eta 0:00:02\n",
      "   ------------------------------ --------- 1.5/2.0 MB 328.8 kB/s eta 0:00:02\n",
      "   ------------------------------ --------- 1.5/2.0 MB 328.8 kB/s eta 0:00:02\n",
      "   ------------------------------ --------- 1.5/2.0 MB 328.8 kB/s eta 0:00:02\n",
      "   ------------------------------ --------- 1.5/2.0 MB 328.8 kB/s eta 0:00:02\n",
      "   ------------------------------ --------- 1.5/2.0 MB 328.8 kB/s eta 0:00:02\n",
      "   ------------------------------ --------- 1.5/2.0 MB 328.8 kB/s eta 0:00:02\n",
      "   ------------------------------ --------- 1.5/2.0 MB 328.8 kB/s eta 0:00:02\n",
      "   ------------------------------ --------- 1.5/2.0 MB 328.8 kB/s eta 0:00:02\n",
      "   ------------------------------ --------- 1.5/2.0 MB 328.8 kB/s eta 0:00:02\n",
      "   ------------------------------ --------- 1.6/2.0 MB 298.2 kB/s eta 0:00:02\n",
      "   ------------------------------- -------- 1.6/2.0 MB 300.4 kB/s eta 0:00:02\n",
      "   ------------------------------- -------- 1.6/2.0 MB 303.5 kB/s eta 0:00:02\n",
      "   -------------------------------- ------- 1.6/2.0 MB 304.5 kB/s eta 0:00:02\n",
      "   -------------------------------- ------- 1.6/2.0 MB 305.7 kB/s eta 0:00:02\n",
      "   -------------------------------- ------- 1.7/2.0 MB 306.7 kB/s eta 0:00:02\n",
      "   --------------------------------- ------ 1.7/2.0 MB 308.0 kB/s eta 0:00:02\n",
      "   --------------------------------- ------ 1.7/2.0 MB 310.8 kB/s eta 0:00:02\n",
      "   ---------------------------------- ----- 1.7/2.0 MB 310.1 kB/s eta 0:00:01\n",
      "   ---------------------------------- ----- 1.7/2.0 MB 311.1 kB/s eta 0:00:01\n",
      "   ---------------------------------- ----- 1.8/2.0 MB 311.3 kB/s eta 0:00:01\n",
      "   ---------------------------------- ----- 1.8/2.0 MB 311.3 kB/s eta 0:00:01\n",
      "   ----------------------------------- ---- 1.8/2.0 MB 316.8 kB/s eta 0:00:01\n",
      "   ------------------------------------ --- 1.9/2.0 MB 320.6 kB/s eta 0:00:01\n",
      "   ------------------------------------- -- 1.9/2.0 MB 323.2 kB/s eta 0:00:01\n",
      "   ------------------------------------- -- 1.9/2.0 MB 325.0 kB/s eta 0:00:01\n",
      "   -------------------------------------- - 1.9/2.0 MB 328.5 kB/s eta 0:00:01\n",
      "   -------------------------------------- - 2.0/2.0 MB 331.2 kB/s eta 0:00:01\n",
      "   ---------------------------------------  2.0/2.0 MB 332.8 kB/s eta 0:00:01\n",
      "   ---------------------------------------  2.0/2.0 MB 334.5 kB/s eta 0:00:01\n",
      "   ---------------------------------------- 2.0/2.0 MB 335.9 kB/s eta 0:00:00\n",
      "Downloading importlib_metadata-7.1.0-py3-none-any.whl (24 kB)\n",
      "Downloading zipp-3.18.2-py3-none-any.whl (8.3 kB)\n",
      "Installing collected packages: zipp, importlib-metadata, diffusers\n",
      "Successfully installed diffusers-0.27.2 importlib-metadata-7.1.0 zipp-3.18.2\n"
     ]
    }
   ],
   "source": [
    "!pip install diffusers"
   ]
  },
  {
   "cell_type": "code",
   "execution_count": 2,
   "metadata": {},
   "outputs": [
    {
     "ename": "ModuleNotFoundError",
     "evalue": "No module named 'diffusers.callbacks'",
     "output_type": "error",
     "traceback": [
      "\u001b[1;31m---------------------------------------------------------------------------\u001b[0m",
      "\u001b[1;31mModuleNotFoundError\u001b[0m                       Traceback (most recent call last)",
      "Cell \u001b[1;32mIn[2], line 1\u001b[0m\n\u001b[1;32m----> 1\u001b[0m \u001b[38;5;28;01mfrom\u001b[39;00m \u001b[38;5;21;01mdiffusers\u001b[39;00m\u001b[38;5;21;01m.\u001b[39;00m\u001b[38;5;21;01mcallbacks\u001b[39;00m \u001b[38;5;28;01mimport\u001b[39;00m MultiPipelineCallbacks, PipelineCallback\n",
      "\u001b[1;31mModuleNotFoundError\u001b[0m: No module named 'diffusers.callbacks'"
     ]
    }
   ],
   "source": [
    "from diffusers.callbacks import MultiPipelineCallbacks, PipelineCallback"
   ]
  },
  {
   "cell_type": "code",
   "execution_count": 4,
   "metadata": {},
   "outputs": [
    {
     "ename": "ImportError",
     "evalue": "cannot import name 'MultiPipelineCallbacks' from 'diffusers.pipelines.stable_diffusion.pipeline_stable_diffusion' (c:\\Users\\DAVID NGUYEN\\AppData\\Local\\Programs\\Python\\Python311\\Lib\\site-packages\\diffusers\\pipelines\\stable_diffusion\\pipeline_stable_diffusion.py)",
     "output_type": "error",
     "traceback": [
      "\u001b[1;31m---------------------------------------------------------------------------\u001b[0m",
      "\u001b[1;31mImportError\u001b[0m                               Traceback (most recent call last)",
      "Cell \u001b[1;32mIn[4], line 1\u001b[0m\n\u001b[1;32m----> 1\u001b[0m \u001b[38;5;28;01mfrom\u001b[39;00m \u001b[38;5;21;01mdiffusers\u001b[39;00m\u001b[38;5;21;01m.\u001b[39;00m\u001b[38;5;21;01mpipelines\u001b[39;00m\u001b[38;5;21;01m.\u001b[39;00m\u001b[38;5;21;01mstable_diffusion\u001b[39;00m\u001b[38;5;21;01m.\u001b[39;00m\u001b[38;5;21;01mpipeline_stable_diffusion\u001b[39;00m \u001b[38;5;28;01mimport\u001b[39;00m MultiPipelineCallbacks\n",
      "\u001b[1;31mImportError\u001b[0m: cannot import name 'MultiPipelineCallbacks' from 'diffusers.pipelines.stable_diffusion.pipeline_stable_diffusion' (c:\\Users\\DAVID NGUYEN\\AppData\\Local\\Programs\\Python\\Python311\\Lib\\site-packages\\diffusers\\pipelines\\stable_diffusion\\pipeline_stable_diffusion.py)"
     ]
    }
   ],
   "source": [
    "from diffusers import StableDiffusionPipeline"
   ]
  },
  {
   "cell_type": "code",
   "execution_count": 5,
   "metadata": {},
   "outputs": [],
   "source": [
    "from diffusers.loaders import FromSingleFileMixin, IPAdapterMixin, LoraLoaderMixin, TextualInversionLoaderMixin\n"
   ]
  },
  {
   "cell_type": "code",
   "execution_count": 6,
   "metadata": {},
   "outputs": [],
   "source": [
    "from diffusers.configuration_utils import FrozenDict\n",
    "from diffusers.image_processor import PipelineImageInput, VaeImageProcessor\n",
    "from diffusers.loaders import FromSingleFileMixin, IPAdapterMixin, LoraLoaderMixin, TextualInversionLoaderMixin\n",
    "from diffusers.models import AutoencoderKL, ImageProjection, UNet2DConditionModel\n",
    "from diffusers.models.lora import adjust_lora_scale_text_encoder\n",
    "from diffusers.schedulers import KarrasDiffusionSchedulers\n",
    "from diffusers.utils import (\n",
    "    USE_PEFT_BACKEND,\n",
    "    deprecate,\n",
    "    logging,\n",
    "    replace_example_docstring,\n",
    "    scale_lora_layers,\n",
    "    unscale_lora_layers,\n",
    ")"
   ]
  },
  {
   "cell_type": "code",
   "execution_count": 7,
   "metadata": {},
   "outputs": [],
   "source": [
    "from diffusers.utils.torch_utils import randn_tensor"
   ]
  },
  {
   "cell_type": "code",
   "execution_count": 9,
   "metadata": {},
   "outputs": [],
   "source": [
    "from diffusers.pipelines.pipeline_utils import DiffusionPipeline, StableDiffusionMixin\n",
    "from diffusers.pipelines.stable_diffusion import StableDiffusionPipelineOutput\n",
    "from diffusers.pipelines.stable_diffusion.safety_checker import StableDiffusionSafetyChecker\n"
   ]
  },
  {
   "cell_type": "code",
   "execution_count": 11,
   "metadata": {},
   "outputs": [],
   "source": [
    "from diffusers.utils import CONFIG_NAME\n"
   ]
  },
  {
   "cell_type": "code",
   "execution_count": 12,
   "metadata": {},
   "outputs": [
    {
     "data": {
      "text/plain": [
       "'config.json'"
      ]
     },
     "execution_count": 12,
     "metadata": {},
     "output_type": "execute_result"
    }
   ],
   "source": [
    "CONFIG_NAME"
   ]
  },
  {
   "cell_type": "code",
   "execution_count": null,
   "metadata": {},
   "outputs": [],
   "source": []
  }
 ],
 "metadata": {
  "kernelspec": {
   "display_name": "Python 3",
   "language": "python",
   "name": "python3"
  },
  "language_info": {
   "codemirror_mode": {
    "name": "ipython",
    "version": 3
   },
   "file_extension": ".py",
   "mimetype": "text/x-python",
   "name": "python",
   "nbconvert_exporter": "python",
   "pygments_lexer": "ipython3",
   "version": "3.11.9"
  }
 },
 "nbformat": 4,
 "nbformat_minor": 2
}
