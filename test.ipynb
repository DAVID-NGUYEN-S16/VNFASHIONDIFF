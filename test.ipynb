{
 "cells": [
  {
   "cell_type": "code",
   "execution_count": 3,
   "metadata": {},
   "outputs": [],
   "source": [
    "import yaml\n",
    "\n",
    "def load_config(file_path):\n",
    "    \"\"\"\n",
    "    Load a YAML configuration file.\n",
    "    \"\"\"\n",
    "    with open(file_path, 'r') as file:\n",
    "        config = yaml.safe_load(file)\n",
    "    return config\n",
    "\n",
    "# Example usage\n",
    "config_path = 'autoencoder_kl_8x8x64.yaml'  # Update this path to where your config.yml is located\n",
    "config = load_config(config_path)\n"
   ]
  },
  {
   "cell_type": "code",
   "execution_count": 9,
   "metadata": {},
   "outputs": [
    {
     "name": "stdout",
     "output_type": "stream",
     "text": [
      "Looking in indexes: https://pypi.org/simple, https://pypi.ngc.nvidia.com\n",
      "Collecting omegaconf\n",
      "  Downloading omegaconf-2.3.0-py3-none-any.whl.metadata (3.9 kB)\n",
      "Collecting antlr4-python3-runtime==4.9.* (from omegaconf)\n",
      "  Downloading antlr4-python3-runtime-4.9.3.tar.gz (117 kB)\n",
      "     ---------------------------------------- 0.0/117.0 kB ? eta -:--:--\n",
      "     --- ------------------------------------ 10.2/117.0 kB ? eta -:--:--\n",
      "     --------- --------------------------- 30.7/117.0 kB 445.2 kB/s eta 0:00:01\n",
      "     --------- --------------------------- 30.7/117.0 kB 445.2 kB/s eta 0:00:01\n",
      "     --------- --------------------------- 30.7/117.0 kB 445.2 kB/s eta 0:00:01\n",
      "     ------------ ------------------------ 41.0/117.0 kB 164.3 kB/s eta 0:00:01\n",
      "     ------------------- ----------------- 61.4/117.0 kB 218.8 kB/s eta 0:00:01\n",
      "     ------------------------- ----------- 81.9/117.0 kB 270.5 kB/s eta 0:00:01\n",
      "     ----------------------------- ------- 92.2/117.0 kB 249.8 kB/s eta 0:00:01\n",
      "     ------------------------------------ 117.0/117.0 kB 284.8 kB/s eta 0:00:00\n",
      "  Preparing metadata (setup.py): started\n",
      "  Preparing metadata (setup.py): finished with status 'done'\n",
      "Requirement already satisfied: PyYAML>=5.1.0 in c:\\users\\nguye\\appdata\\local\\programs\\python\\python310\\lib\\site-packages (from omegaconf) (6.0.1)\n",
      "Downloading omegaconf-2.3.0-py3-none-any.whl (79 kB)\n",
      "   ---------------------------------------- 0.0/79.5 kB ? eta -:--:--\n",
      "   ----- ---------------------------------- 10.2/79.5 kB ? eta -:--:--\n",
      "   --------------- ------------------------ 30.7/79.5 kB 435.7 kB/s eta 0:00:01\n",
      "   ------------------------------ --------- 61.4/79.5 kB 469.7 kB/s eta 0:00:01\n",
      "   ------------------------------ --------- 61.4/79.5 kB 469.7 kB/s eta 0:00:01\n",
      "   ---------------------------------------- 79.5/79.5 kB 402.7 kB/s eta 0:00:00\n",
      "Building wheels for collected packages: antlr4-python3-runtime\n",
      "  Building wheel for antlr4-python3-runtime (setup.py): started\n",
      "  Building wheel for antlr4-python3-runtime (setup.py): finished with status 'done'\n",
      "  Created wheel for antlr4-python3-runtime: filename=antlr4_python3_runtime-4.9.3-py3-none-any.whl size=144578 sha256=adf68f8b4809598ce927d2bc43f8de8c70fb66f4e801846588847d4cfcd1cb1d\n",
      "  Stored in directory: C:\\Users\\nguye\\AppData\\Local\\Temp\\pip-ephem-wheel-cache-jxl1a7vp\\wheels\\12\\93\\dd\\1f6a127edc45659556564c5730f6d4e300888f4bca2d4c5a88\n",
      "Successfully built antlr4-python3-runtime\n",
      "Installing collected packages: antlr4-python3-runtime, omegaconf\n",
      "Successfully installed antlr4-python3-runtime-4.9.3 omegaconf-2.3.0\n"
     ]
    },
    {
     "name": "stderr",
     "output_type": "stream",
     "text": [
      "WARNING: Ignoring invalid distribution - (c:\\users\\nguye\\appdata\\local\\programs\\python\\python310\\lib\\site-packages)\n",
      "WARNING: Ignoring invalid distribution -ensorflow-intel (c:\\users\\nguye\\appdata\\local\\programs\\python\\python310\\lib\\site-packages)\n",
      "WARNING: Ignoring invalid distribution -illow (c:\\users\\nguye\\appdata\\local\\programs\\python\\python310\\lib\\site-packages)\n",
      "WARNING: Ignoring invalid distribution -orch (c:\\users\\nguye\\appdata\\local\\programs\\python\\python310\\lib\\site-packages)\n",
      "WARNING: Ignoring invalid distribution -rotobuf (c:\\users\\nguye\\appdata\\local\\programs\\python\\python310\\lib\\site-packages)\n",
      "WARNING: Ignoring invalid distribution -ylibjpeg-libjpeg (c:\\users\\nguye\\appdata\\local\\programs\\python\\python310\\lib\\site-packages)\n",
      "WARNING: Ignoring invalid distribution -ython-gdcm (c:\\users\\nguye\\appdata\\local\\programs\\python\\python310\\lib\\site-packages)\n",
      "WARNING: Ignoring invalid distribution - (c:\\users\\nguye\\appdata\\local\\programs\\python\\python310\\lib\\site-packages)\n",
      "WARNING: Ignoring invalid distribution -ensorflow-intel (c:\\users\\nguye\\appdata\\local\\programs\\python\\python310\\lib\\site-packages)\n",
      "WARNING: Ignoring invalid distribution -illow (c:\\users\\nguye\\appdata\\local\\programs\\python\\python310\\lib\\site-packages)\n",
      "WARNING: Ignoring invalid distribution -orch (c:\\users\\nguye\\appdata\\local\\programs\\python\\python310\\lib\\site-packages)\n",
      "WARNING: Ignoring invalid distribution -rotobuf (c:\\users\\nguye\\appdata\\local\\programs\\python\\python310\\lib\\site-packages)\n",
      "WARNING: Ignoring invalid distribution -ylibjpeg-libjpeg (c:\\users\\nguye\\appdata\\local\\programs\\python\\python310\\lib\\site-packages)\n",
      "WARNING: Ignoring invalid distribution -ython-gdcm (c:\\users\\nguye\\appdata\\local\\programs\\python\\python310\\lib\\site-packages)\n",
      "\n",
      "[notice] A new release of pip is available: 23.3.1 -> 24.0\n",
      "[notice] To update, run: python.exe -m pip install --upgrade pip\n"
     ]
    }
   ],
   "source": [
    "!pip install omegaconf"
   ]
  },
  {
   "cell_type": "code",
   "execution_count": 7,
   "metadata": {},
   "outputs": [],
   "source": [
    "from omegaconf import OmegaConf\n",
    "\n",
    "def load_config(file_path):\n",
    "    \"\"\"\n",
    "    Load a YAML configuration file using OmegaConf.\n",
    "    \"\"\"\n",
    "    config = OmegaConf.load(file_path)\n",
    "    return config\n",
    "\n",
    "# Example usage\n",
    "config_path = 'config.yaml'  # Update this path to where your config.yml is located\n",
    "config = load_config(config_path)\n"
   ]
  },
  {
   "cell_type": "code",
   "execution_count": 10,
   "metadata": {},
   "outputs": [
    {
     "data": {
      "text/plain": [
       "'ac12c873f730f05f115d320f73a1a908c5db8470'"
      ]
     },
     "execution_count": 10,
     "metadata": {},
     "output_type": "execute_result"
    }
   ],
   "source": [
    "config.wandb['key_wandb']\n"
   ]
  },
  {
   "cell_type": "code",
   "execution_count": null,
   "metadata": {},
   "outputs": [],
   "source": []
  }
 ],
 "metadata": {
  "kernelspec": {
   "display_name": "Python 3",
   "language": "python",
   "name": "python3"
  },
  "language_info": {
   "codemirror_mode": {
    "name": "ipython",
    "version": 3
   },
   "file_extension": ".py",
   "mimetype": "text/x-python",
   "name": "python",
   "nbconvert_exporter": "python",
   "pygments_lexer": "ipython3",
   "version": "3.10.6"
  }
 },
 "nbformat": 4,
 "nbformat_minor": 2
}
